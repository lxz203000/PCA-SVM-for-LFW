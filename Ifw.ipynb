{
 "cells": [
  {
   "cell_type": "markdown",
   "metadata": {},
   "source": [
    "## 编写my_PCA"
   ]
  },
  {
   "cell_type": "code",
   "execution_count": 1,
   "metadata": {},
   "outputs": [],
   "source": [
    "import numpy as np"
   ]
  },
  {
   "cell_type": "markdown",
   "metadata": {},
   "source": [
    "#### 协方差特征值my_PCA"
   ]
  },
  {
   "cell_type": "code",
   "execution_count": 2,
   "metadata": {},
   "outputs": [],
   "source": [
    "#eigenvalue\n",
    "def my_PCA(data,k):\n",
    "    n_samples,n_features = data.shape\n",
    "    # 求均值\n",
    "    mean = np.array([np.mean(data[:,i]) for i in range(n_features)])\n",
    "    # 去中心化\n",
    "    normal_data = data - mean\n",
    "    # 得到协方差矩阵\n",
    "    matrix_ = np.dot(np.transpose(normal_data),normal_data)/(n_samples-1)\n",
    "    # 特征值和特征矩阵\n",
    "    eig_val,eig_vec = np.linalg.eig(matrix_)\n",
    "    # 从大到小排序\n",
    "    eigIndex = np.argsort(eig_val)\n",
    "    eigVecIndex = eigIndex[:-(k+1):-1]\n",
    "    feature = eig_vec[:,eigVecIndex]\n",
    "    new_data = np.dot(normal_data,feature)\n",
    "    # 降维后的数据映射回原空间\n",
    "    rec_data = np.dot(new_data,np.transpose(feature))\n",
    "    return rec_data"
   ]
  },
  {
   "cell_type": "markdown",
   "metadata": {},
   "source": [
    "#### SVD my_PCA"
   ]
  },
  {
   "cell_type": "code",
   "execution_count": 3,
   "metadata": {},
   "outputs": [],
   "source": [
    "#SVD\n",
    "def my_PCA_SVD(data,k):\n",
    "    n_samples,n_features = data.shape\n",
    "    # 求均值\n",
    "    mean = np.array([np.mean(data[:,i]) for i in range(n_features)])\n",
    "    # 去中心化\n",
    "    normal_data = data - mean\n",
    "    # 得到协方差矩阵\n",
    "    matrix_ = np.dot(np.transpose(normal_data),normal_data)/(n_samples-1)\n",
    "    # SVD分解\n",
    "    u,d,v=np.linalg.svd(matrix_)\n",
    "    return np.dot(data,u[:,:k])"
   ]
  },
  {
   "cell_type": "markdown",
   "metadata": {},
   "source": [
    "#### 通过对lfw数据降维比较速度"
   ]
  },
  {
   "cell_type": "code",
   "execution_count": 4,
   "metadata": {},
   "outputs": [
    {
     "name": "stdout",
     "output_type": "stream",
     "text": [
      "eigenvalue:done in 2.620s\n",
      "SVD:done in 2.583s\n"
     ]
    }
   ],
   "source": [
    "from time import time\n",
    "from sklearn.datasets import fetch_lfw_people\n",
    "lfw_people = fetch_lfw_people(min_faces_per_person=70, resize=0.4)\n",
    "X = lfw_people.data\n",
    "\n",
    "t0=time()\n",
    "new_data=my_PCA(X,150)\n",
    "print(\"eigenvalue:done in %0.3fs\"%(time()-t0))\n",
    "\n",
    "t0=time()\n",
    "new_data=my_PCA_SVD(X,150)\n",
    "print(\"SVD:done in %0.3fs\"%(time()-t0))"
   ]
  },
  {
   "cell_type": "markdown",
   "metadata": {},
   "source": [
    "可以发现，每次pca处理的时间有一定差异，但SVD所用时间均比协方差特征值短。"
   ]
  },
  {
   "cell_type": "markdown",
   "metadata": {},
   "source": [
    "## ex1.npz分类"
   ]
  },
  {
   "cell_type": "markdown",
   "metadata": {},
   "source": [
    "#### 采用PCA+SVM进行分类"
   ]
  },
  {
   "cell_type": "code",
   "execution_count": 5,
   "metadata": {},
   "outputs": [],
   "source": [
    "import numpy as np\n",
    "from sklearn.model_selection import train_test_split\n",
    "from sklearn.decomposition import PCA\n",
    "x=np.load('ex1.npz')\n",
    "X=x['X']\n",
    "y=x['y']"
   ]
  },
  {
   "cell_type": "markdown",
   "metadata": {},
   "source": [
    "#### 分为训练集和测试集"
   ]
  },
  {
   "cell_type": "code",
   "execution_count": 6,
   "metadata": {},
   "outputs": [],
   "source": [
    "X_train, X_test, y_train, y_test = train_test_split(\n",
    "    X, y, test_size=0.25, random_state=42)"
   ]
  },
  {
   "cell_type": "markdown",
   "metadata": {},
   "source": [
    "#### PCA聚类"
   ]
  },
  {
   "cell_type": "code",
   "execution_count": 7,
   "metadata": {},
   "outputs": [],
   "source": [
    "n_components=100\n",
    "pca=PCA(n_components=n_components,svd_solver='randomized',whiten=True).fit(X_train)\n",
    "X_train_pca=pca.transform(X_train)\n",
    "X_test_pca=pca.transform(X_test)"
   ]
  },
  {
   "cell_type": "markdown",
   "metadata": {},
   "source": [
    "#### 高斯核函数SVM分类，并使用GirdSearch寻找更优参量"
   ]
  },
  {
   "cell_type": "code",
   "execution_count": 8,
   "metadata": {},
   "outputs": [
    {
     "data": {
      "text/plain": [
       "SVC(C=1.4357142857142857, cache_size=200, class_weight='balanced', coef0=0.0,\n",
       "  decision_function_shape='ovr', degree=3, gamma=0.005, kernel='rbf',\n",
       "  max_iter=-1, probability=False, random_state=None, shrinking=True,\n",
       "  tol=0.001, verbose=False)"
      ]
     },
     "execution_count": 8,
     "metadata": {},
     "output_type": "execute_result"
    }
   ],
   "source": [
    "from sklearn.model_selection import GridSearchCV\n",
    "from sklearn.svm import SVC\n",
    "import warnings\n",
    "warnings.filterwarnings(\"ignore\")  # 忽略版本问题\n",
    "\n",
    "param_grid = {'C': np.linspace(0.01,5,15),\n",
    "              'gamma': [0.0001, 0.0005, 0.001, 0.005, 0.01, 0.1], }\n",
    "clf = GridSearchCV(\n",
    "    SVC(kernel='rbf', class_weight='balanced'), param_grid\n",
    ")\n",
    "clf = clf.fit(X_train_pca, y_train)\n",
    "clf.best_estimator_"
   ]
  },
  {
   "cell_type": "markdown",
   "metadata": {},
   "source": [
    "#### 直接打印classification_report评估分类结果"
   ]
  },
  {
   "cell_type": "code",
   "execution_count": 9,
   "metadata": {},
   "outputs": [
    {
     "name": "stdout",
     "output_type": "stream",
     "text": [
      "              precision    recall  f1-score   support\n",
      "\n",
      "           0       0.92      0.80      0.86        15\n",
      "           1       0.78      0.85      0.81        46\n",
      "           2       0.76      0.90      0.83        21\n",
      "           3       0.86      0.91      0.88        92\n",
      "           4       0.94      0.73      0.82        22\n",
      "           5       0.94      0.84      0.89        19\n",
      "           6       0.86      0.70      0.78        27\n",
      "\n",
      "   micro avg       0.85      0.85      0.85       242\n",
      "   macro avg       0.87      0.82      0.84       242\n",
      "weighted avg       0.85      0.85      0.85       242\n",
      "\n"
     ]
    }
   ],
   "source": [
    "from sklearn.metrics import classification_report\n",
    "from sklearn.metrics import confusion_matrix\n",
    "\n",
    "y_pred = clf.predict(X_test_pca)\n",
    "print(classification_report(y_test, y_pred))"
   ]
  },
  {
   "cell_type": "markdown",
   "metadata": {},
   "source": [
    "可见分类成功率基本都在80%以上，成功率还可以接收"
   ]
  },
  {
   "cell_type": "markdown",
   "metadata": {},
   "source": [
    "#### 对测试数据分类并写入output.txt"
   ]
  },
  {
   "cell_type": "code",
   "execution_count": 10,
   "metadata": {},
   "outputs": [],
   "source": [
    "x1=np.load('test.npz')\n",
    "X_test1=x1['X']\n",
    "X_test1_pca=pca.transform(X_test1)\n",
    "y1=clf.predict(X_test1_pca)"
   ]
  },
  {
   "cell_type": "code",
   "execution_count": 11,
   "metadata": {},
   "outputs": [],
   "source": [
    "f=\"output.txt\"\n",
    "with open(f,\"w\") as file:\n",
    "    for i in y1:\n",
    "        file.write(\" %s\"%(str(i)))"
   ]
  }
 ],
 "metadata": {
  "kernelspec": {
   "display_name": "Python 3",
   "language": "python",
   "name": "python3"
  },
  "language_info": {
   "codemirror_mode": {
    "name": "ipython",
    "version": 3
   },
   "file_extension": ".py",
   "mimetype": "text/x-python",
   "name": "python",
   "nbconvert_exporter": "python",
   "pygments_lexer": "ipython3",
   "version": "3.7.1"
  }
 },
 "nbformat": 4,
 "nbformat_minor": 2
}
